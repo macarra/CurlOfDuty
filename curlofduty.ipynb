{
 "cells": [
  {
   "cell_type": "code",
   "execution_count": 3,
   "metadata": {},
   "outputs": [],
   "source": [
    "def count_primes(num):\n",
    "    primes = [2]\n",
    "    x = 3\n",
    "    if num < 2:\n",
    "        return 0\n",
    "    while x <= num:\n",
    "        for y in primes:  # use the primes list!\n",
    "            if x%y == 0:\n",
    "                x += 2\n",
    "                break\n",
    "        else:\n",
    "            primes.append(x)\n",
    "            x += 2\n",
    "    #print(primes)\n",
    "    return len(primes)"
   ]
  },
  {
   "cell_type": "code",
   "execution_count": 4,
   "metadata": {},
   "outputs": [],
   "source": [
    "def is_prime(num):\n",
    "    if num < 2: return False\n",
    "    if num == 2: return True\n",
    "    primes=[2]\n",
    "    x=3\n",
    "    \n",
    "    while x <= num:\n",
    "        for y in primes:  # use the primes list!\n",
    "            if x%y == 0:\n",
    "                x += 2\n",
    "                break\n",
    "        else:\n",
    "            primes.append(x)\n",
    "            if x==num: return True\n",
    "            x+=2\n",
    "    #print(primes)\n",
    "    return False\n",
    "    "
   ]
  },
  {
   "cell_type": "code",
   "execution_count": null,
   "metadata": {},
   "outputs": [],
   "source": [
    "from numba import jit\n",
    "@jit\n",
    "def sum_prime_primes(num):\n",
    "    if num < 2: return False\n",
    "    if num == 2: return True\n",
    "    primes=[2]\n",
    "    x=3\n",
    "    primesum=0\n",
    "    index=0\n",
    "    while x <= num:\n",
    "        #print(\"X=\",x)\n",
    "        for y in primes:  # use the primes list!\n",
    "            if x%y == 0:\n",
    "                #print(x,\"is divisible by\",y)\n",
    "                x+=2\n",
    "                break\n",
    "        else:\n",
    "            index+=1\n",
    "            primes.append(x)\n",
    "            #print(index,primes)\n",
    "            if index in primes:\n",
    "                #print(\"adding\",x,\"to primesum\")\n",
    "                primesum+=x\n",
    "            x+=2\n",
    "\n",
    "    return primesum"
   ]
  },
  {
   "cell_type": "code",
   "execution_count": 7,
   "metadata": {},
   "outputs": [
    {
     "data": {
      "text/plain": [
       "5036061511056"
      ]
     },
     "execution_count": 7,
     "metadata": {},
     "output_type": "execute_result"
    }
   ],
   "source": [
    "sum_prime_primes(50000000)"
   ]
  },
  {
   "cell_type": "markdown",
   "metadata": {},
   "source": [
    "### Result 1\n",
    "5036061511056"
   ]
  },
  {
   "cell_type": "code",
   "execution_count": null,
   "metadata": {},
   "outputs": [],
   "source": []
  }
 ],
 "metadata": {
  "kernelspec": {
   "display_name": "Python 3",
   "language": "python",
   "name": "python3"
  },
  "language_info": {
   "codemirror_mode": {
    "name": "ipython",
    "version": 3
   },
   "file_extension": ".py",
   "mimetype": "text/x-python",
   "name": "python",
   "nbconvert_exporter": "python",
   "pygments_lexer": "ipython3",
   "version": "3.6.5"
  }
 },
 "nbformat": 4,
 "nbformat_minor": 2
}
