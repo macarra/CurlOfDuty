{
 "cells": [
  {
   "cell_type": "code",
   "execution_count": 2,
   "metadata": {},
   "outputs": [],
   "source": [
    "## From memo page\n",
    "from codecs import encode\n",
    "cluetext = 'pastkvpov psjdvyopnme opotspn 80% cwzqwsvsqu tpr spacspkez vt mskxi oavqmpr cd voe /uwjyttkol/'"
   ]
  },
  {
   "cell_type": "raw",
   "metadata": {},
   "source": [
    "looks like voe -> url\n",
    "uv\n",
    " opqr\n",
    " efghijkl"
   ]
  },
  {
   "cell_type": "raw",
   "metadata": {},
   "source": [
    "cipher: a b c d e f g h i j k l m n o p q r s t u v w x y z\n",
    " plain:     i n l                   r             u"
   ]
  },
  {
   "cell_type": "raw",
   "metadata": {},
   "source": [
    " plain: a b c d e f g h i j k l m n o p q r s t u v w x y z\n",
    "cipher:                 c     e   d       o     v"
   ]
  }
 ],
 "metadata": {
  "kernelspec": {
   "display_name": "Python 3",
   "language": "python",
   "name": "python3"
  },
  "language_info": {
   "codemirror_mode": {
    "name": "ipython",
    "version": 3
   },
   "file_extension": ".py",
   "mimetype": "text/x-python",
   "name": "python",
   "nbconvert_exporter": "python",
   "pygments_lexer": "ipython3",
   "version": "3.6.4"
  }
 },
 "nbformat": 4,
 "nbformat_minor": 2
}
