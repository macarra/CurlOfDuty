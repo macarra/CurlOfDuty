{
 "cells": [
  {
   "cell_type": "code",
   "execution_count": 11,
   "metadata": {},
   "outputs": [
    {
     "data": {
      "text/plain": [
       "'make a list of primes and sum the ones that are at prime indexes'"
      ]
     },
     "execution_count": 11,
     "metadata": {},
     "output_type": "execute_result"
    }
   ],
   "source": [
    "## From Whiteboard page\n",
    "from codecs import encode\n",
    "cluetext = 'znxr n yvfg bs cevzrf naq fhz gur barf gung ner ng cevzr vaqrkrf'\n",
    "encode(cluetext,'rot13')\n",
    "#Note: In rot13, decode and encode are the same, hence it's popularity~\n",
    "#Session ID: f73709aed14f45058a7b7e75d46a88c7"
   ]
  },
  {
   "cell_type": "raw",
   "metadata": {},
   "source": [
    "Result of decode: make a list of primes and sum the ones that are at prime indexes"
   ]
  },
  {
   "cell_type": "code",
   "execution_count": 4,
   "metadata": {},
   "outputs": [],
   "source": [
    "import matplotlib.pyplot as P\n",
    "import time\n",
    "from IPython.display import clear_output"
   ]
  },
  {
   "cell_type": "code",
   "execution_count": 5,
   "metadata": {},
   "outputs": [],
   "source": [
    "def count_primes(num):\n",
    "    primes = [2]\n",
    "    x = 3\n",
    "    if num < 2:\n",
    "        return 0\n",
    "    while x <= num:\n",
    "        for y in primes:  # use the primes list!\n",
    "            if x%y == 0:\n",
    "                x += 2\n",
    "                break\n",
    "        else:\n",
    "            primes.append(x)\n",
    "            x += 2\n",
    "    #print(primes)\n",
    "    return len(primes)"
   ]
  },
  {
   "cell_type": "code",
   "execution_count": 6,
   "metadata": {},
   "outputs": [],
   "source": [
    "def is_prime(num):\n",
    "    if num < 2: return False\n",
    "    if num == 2: return True\n",
    "    primes=[2]\n",
    "    x=3\n",
    "    \n",
    "    while x <= num:\n",
    "        for y in primes:  # use the primes list!\n",
    "            if x%y == 0:\n",
    "                x += 2\n",
    "                break\n",
    "        else:\n",
    "            primes.append(x)\n",
    "            if x==num: return True\n",
    "            x+=2\n",
    "    #print(primes)\n",
    "    return False\n",
    "    "
   ]
  },
  {
   "cell_type": "code",
   "execution_count": 9,
   "metadata": {},
   "outputs": [],
   "source": [
    "from numba import jit\n",
    "@jit\n",
    "def sum_prime_primes(num):\n",
    "    if num < 2: return 0\n",
    "    if num == 2: return 2\n",
    "    primes=[2]\n",
    "    x=3\n",
    "    primesum=0\n",
    "    index=0\n",
    "    while x <= num:\n",
    "        #print(\"X=\",x)\n",
    "        for y in primes:  # use the primes list!\n",
    "            if x%y == 0:\n",
    "                #print(x,\"is divisible by\",y)\n",
    "                x+=2\n",
    "                break\n",
    "        else:\n",
    "            index+=1\n",
    "            primes.append(x)\n",
    "            #print(index,primes)\n",
    "            if index in primes:\n",
    "                #print(\"adding\",x,\"to primesum\")\n",
    "                primesum+=x\n",
    "                #clear_output()\n",
    "                #print(\"Adding\",x,\"sum is now\",primesum)\n",
    "            x+=2\n",
    "\n",
    "    return primesum\n",
    "#sum_prime_primes(1034382)"
   ]
  },
  {
   "cell_type": "code",
   "execution_count": 10,
   "metadata": {},
   "outputs": [
    {
     "data": {
      "text/plain": [
       "345"
      ]
     },
     "execution_count": 10,
     "metadata": {},
     "output_type": "execute_result"
    }
   ],
   "source": [
    "sum_prime_primes(100)"
   ]
  },
  {
   "cell_type": "markdown",
   "metadata": {},
   "source": [
    "### Result 1\n",
    "#sum_prime_primes(50000000)\n",
    "\n",
    "5036061511056"
   ]
  },
  {
   "cell_type": "code",
   "execution_count": 2,
   "metadata": {},
   "outputs": [
    {
     "data": {
      "text/plain": [
       "1338"
      ]
     },
     "execution_count": 2,
     "metadata": {},
     "output_type": "execute_result"
    }
   ],
   "source": [
    "## Now take remainder after 5623 since there are only 5623 boxes available\n",
    "5036061511056%5623"
   ]
  },
  {
   "cell_type": "code",
   "execution_count": 7,
   "metadata": {},
   "outputs": [],
   "source": [
    "#elapsed=[]\n",
    "#for x in range(1000,100000,1000):\n",
    "#    start = time.time()\n",
    "#    sum_prime_primes(x)\n",
    "#    end = time.time()\n",
    "#    elapsed.append(end-start)\n",
    "#print(elapsed)"
   ]
  }
 ],
 "metadata": {
  "kernelspec": {
   "display_name": "Python 3",
   "language": "python",
   "name": "python3"
  },
  "language_info": {
   "codemirror_mode": {
    "name": "ipython",
    "version": 3
   },
   "file_extension": ".py",
   "mimetype": "text/x-python",
   "name": "python",
   "nbconvert_exporter": "python",
   "pygments_lexer": "ipython3",
   "version": "3.6.4"
  }
 },
 "nbformat": 4,
 "nbformat_minor": 2
}
